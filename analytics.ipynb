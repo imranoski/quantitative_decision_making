{
 "cells": [
  {
   "cell_type": "code",
   "execution_count": 32,
   "id": "39ff271c",
   "metadata": {},
   "outputs": [
    {
     "name": "stdout",
     "output_type": "stream",
     "text": [
      "['PDFHandler', 'Path', 'StrByteType', 'Union', '__builtins__', '__cached__', '__doc__', '__file__', '__loader__', '__name__', '__package__', '__spec__', 'read_pdf', 'remove_extra', 'validate_input', 'warnings']\n",
      "c:\\Users\\User\\Documents\\GitHub\\quantitative_decision_making\\.venv\\Lib\\site-packages\\camelot\\io.py\n"
     ]
    }
   ],
   "source": [
    "import pandas as pd\n",
    "import numpy as np\n",
    "import camelot.io as camelot\n",
    "from sklearn.linear_model import LinearRegression\n",
    "import glob\n",
    "import matplotlib.pyplot as plt\n",
    "\n",
    "print(dir(camelot))\n",
    "print(camelot.__file__)\n",
    "\n",
    "pd.set_option('display.float_format', lambda x: '%.3f' % x)"
   ]
  },
  {
   "cell_type": "markdown",
   "id": "6928f052",
   "metadata": {},
   "source": [
    "## functions"
   ]
  },
  {
   "cell_type": "markdown",
   "id": "2feeecfc",
   "metadata": {},
   "source": [
    "## brussels-airlines-analysis"
   ]
  },
  {
   "cell_type": "markdown",
   "id": "6c60d06a",
   "metadata": {},
   "source": [
    "## schiphol-analysis"
   ]
  },
  {
   "cell_type": "code",
   "execution_count": 33,
   "id": "b06dbded",
   "metadata": {},
   "outputs": [
    {
     "name": "stdout",
     "output_type": "stream",
     "text": [
      "    year      month                  predicted_passagers\n",
      "0   2025      april  europe   4030659.365\n",
      "dtype: float64\n",
      "1   2025     august  europe   4986770.856\n",
      "dtype: float64\n",
      "2   2025   december  europe   3319854.452\n",
      "dtype: float64\n",
      "3   2025   february  europe   3073816.882\n",
      "dtype: float64\n",
      "4   2025    january  europe   3022587.224\n",
      "dtype: float64\n",
      "5   2025       july  europe   5070659.305\n",
      "dtype: float64\n",
      "6   2025       june  europe   4536994.276\n",
      "dtype: float64\n",
      "7   2025      march  europe   3661245.503\n",
      "dtype: float64\n",
      "8   2025        may  europe   4604427.841\n",
      "dtype: float64\n",
      "9   2025   november  europe   3514647.045\n",
      "dtype: float64\n",
      "10  2025    october  europe   4558928.876\n",
      "dtype: float64\n",
      "11  2025  september  europe   4655153.973\n",
      "dtype: float64\n",
      "12  2026      april  europe   4171143.978\n",
      "dtype: float64\n",
      "13  2026     august  europe   5160579.782\n",
      "dtype: float64\n",
      "14  2026   december  europe   3435564.669\n",
      "dtype: float64\n",
      "15  2026   february  europe   3180951.704\n",
      "dtype: float64\n",
      "16  2026    january  europe   3127936.488\n",
      "dtype: float64\n",
      "17  2026       july  europe   5247392.079\n",
      "dtype: float64\n",
      "18  2026       june  europe   4695126.687\n",
      "dtype: float64\n",
      "19  2026      march  europe   3788854.564\n",
      "dtype: float64\n",
      "20  2026        may  europe   4764910.582\n",
      "dtype: float64\n",
      "21  2026   november  europe   3637146.563\n",
      "dtype: float64\n",
      "22  2026    october  europe   4717825.796\n",
      "dtype: float64\n",
      "23  2026  september  europe   4817404.723\n",
      "dtype: float64\n"
     ]
    }
   ],
   "source": [
    "#DEMANDE EUROP2EN POUR AMSTERDAME\n",
    "\n",
    "# Lecture et filtrage des données\n",
    "schiphol = pd.read_csv('traffic-data-schiphol.csv', sep=';', decimal=',')\n",
    "schiphol = schiphol[[\"year\",\"air-transport-europe\", \"month\", \"europe\"]]\n",
    "schiphol = schiphol[(schiphol['year'] >= 2000) & (schiphol['year'] < 2020)]\n",
    "\n",
    "passagers_par_an = schiphol.groupby('year')[['europe']].sum()\n",
    "\n",
    "augmentation_annuelle = passagers_par_an.pct_change() * 100\n",
    "augmentation_globale = (passagers_par_an / passagers_par_an.iloc[0] - 1) * 100\n",
    "\n",
    "n = len(passagers_par_an) - 1\n",
    "valeur_debut = passagers_par_an.iloc[0]\n",
    "valeur_fin = passagers_par_an.iloc[-1]\n",
    "croissance_annuel = ((valeur_fin / valeur_debut) ** (1 / n) - 1) * 100\n",
    "\n",
    "passagers_par_mois = schiphol.groupby(['year', 'month'])['europe'].sum()\n",
    "total_annuel = schiphol.groupby('year')['europe'].sum()\n",
    "part_mensuelle = (passagers_par_mois / total_annuel) * 100\n",
    "part_mensuelle = part_mensuelle.reset_index(name='part_mensuelle_pct')\n",
    "part_mensuelle_moyenne = part_mensuelle.groupby('month')['part_mensuelle_pct'].mean().reset_index()\n",
    "\n",
    "schiphol2024 = pd.read_csv('traffic-data-schiphol.csv', sep=';', decimal=',')\n",
    "schiphol2024 = schiphol2024[[\"year\", \"month\", \"europe\"]]\n",
    "schiphol2024 = schiphol2024[(schiphol2024['year'] == 2024)]\n",
    "annees = [2025, 2026]\n",
    "total_2024 = schiphol2024['europe'].sum()\n",
    "resultats = []\n",
    "for annee in annees:\n",
    "    croissance_factor = (1 + croissance_annuel / 100) ** (annee - 2024)\n",
    "    total_annee = total_2024 * croissance_factor\n",
    "    for _, row in part_mensuelle_moyenne.iterrows():\n",
    "        month = row['month']\n",
    "        part_pct = row['part_mensuelle_pct']\n",
    "        predicted = total_annee * (part_pct / 100)\n",
    "        resultats.append([annee, month, predicted])\n",
    "predictions_df = pd.DataFrame(resultats, columns=['year', 'month', 'predicted_passagers'])\n",
    "print(predictions_df)\n",
    "\n",
    "\n"
   ]
  },
  {
   "cell_type": "code",
   "execution_count": 36,
   "id": "73cc77e0",
   "metadata": {},
   "outputs": [
    {
     "name": "stdout",
     "output_type": "stream",
     "text": [
      "    year      month  predicted_passengers\n",
      "0   2025      April           1957165.000\n",
      "1   2025     August           2415871.000\n",
      "2   2025   December           1773930.000\n",
      "3   2025   February           1553477.000\n",
      "4   2025    January           1403192.000\n",
      "5   2025       July           2450771.000\n",
      "6   2025       June           2098373.000\n",
      "7   2025      March           1742478.000\n",
      "8   2025        May           2102553.000\n",
      "9   2025   November           1756834.000\n",
      "10  2025    October           2105930.000\n",
      "11  2025  September           2250282.000\n",
      "12  2026      April           1957165.000\n",
      "13  2026     August           2415871.000\n",
      "14  2026   December           1773930.000\n",
      "15  2026   February           1553477.000\n",
      "16  2026    January           1403192.000\n",
      "17  2026       July           2450771.000\n",
      "18  2026       June           2098373.000\n",
      "19  2026      March           1742478.000\n",
      "20  2026        May           2102553.000\n",
      "21  2026   November           1756834.000\n",
      "22  2026    October           2105930.000\n",
      "23  2026  September           2250282.000\n"
     ]
    },
    {
     "name": "stderr",
     "output_type": "stream",
     "text": [
      "C:\\Users\\User\\AppData\\Local\\Temp\\ipykernel_21116\\3811283849.py:11: RuntimeWarning: divide by zero encountered in scalar divide\n",
      "  cagr = ((pass_annuel.loc[end_year] / pass_annuel.loc[start_year]) ** (1/n) - 1) * 100\n"
     ]
    }
   ],
   "source": [
    "# Séparation historique / réel 2025\n",
    "historique_data = brussels_data[brussels_data['year'] <= 2024]\n",
    "donnees_2025_reel = brussels_data[brussels_data['year'] == 2025]\n",
    "\n",
    "# Calcul CAGR sur historique uniquement\n",
    "pass_annuel = historique_data.groupby('year')['Total number of passengers'].sum()\n",
    "start_year = pass_annuel.index.min()\n",
    "end_year = pass_annuel.index.max()\n",
    "\n",
    "n = end_year - start_year\n",
    "cagr = ((pass_annuel.loc[end_year] / pass_annuel.loc[start_year]) ** (1/n) - 1) * 100\n",
    "\n",
    "# Calcul part mensuelle moyenne (sur historique uniquement)\n",
    "pass_mois = historique_data.groupby(['year', 'month'])['Total number of passengers'].sum()\n",
    "total_annuel = historique_data.groupby('year')['Total number of passengers'].sum()\n",
    "part_mensuelle = (pass_mois / total_annuel) * 100\n",
    "part_mensuelle = part_mensuelle.reset_index(name='part_mensuelle_pct')\n",
    "part_mens_moyenne = part_mensuelle.groupby('month')['part_mensuelle_pct'].mean().reset_index()\n",
    "\n",
    "# Prévisions 2025 et 2026 (sur base historique + CAGR)\n",
    "total_2024 = pass_annuel.loc[2024]\n",
    "total_2025 = total_2024 * (1 + cagr / 100)\n",
    "total_2026 = total_2025 * (1 + cagr / 100)\n",
    "\n",
    "pred_2025 = part_mens_moyenne.copy()\n",
    "pred_2025['year'] = 2025\n",
    "pred_2025['predicted_passengers'] = total_2025 * (pred_2025['part_mensuelle_pct'] / 100)\n",
    "\n",
    "pred_2026 = part_mens_moyenne.copy()\n",
    "pred_2026['year'] = 2026\n",
    "pred_2026['predicted_passengers'] = total_2026 * (pred_2026['part_mensuelle_pct'] / 100)\n",
    "\n",
    "# Fusion des prévisions uniquement (sans données réelles 2025)\n",
    "previsions = pd.concat([pred_2025, pred_2026], ignore_index=True)\n",
    "\n",
    "# Affichage final des prévisions, pas des réels\n",
    "print(previsions[['year', 'month', 'predicted_passengers']])\n"
   ]
  },
  {
   "cell_type": "markdown",
   "id": "71d2a65e",
   "metadata": {},
   "source": [
    "## cost-analysis"
   ]
  },
  {
   "cell_type": "code",
   "execution_count": 35,
   "id": "0259acb0",
   "metadata": {},
   "outputs": [
    {
     "ename": "SyntaxError",
     "evalue": "cannot assign to expression here. Maybe you meant '==' instead of '='? (3154940802.py, line 6)",
     "output_type": "error",
     "traceback": [
      "  \u001b[36mCell\u001b[39m\u001b[36m \u001b[39m\u001b[32mIn[35]\u001b[39m\u001b[32m, line 6\u001b[39m\n\u001b[31m    \u001b[39m\u001b[31munit-tariff-passenger = 4.6\u001b[39m\n    ^\n\u001b[31mSyntaxError\u001b[39m\u001b[31m:\u001b[39m cannot assign to expression here. Maybe you meant '==' instead of '='?\n"
     ]
    }
   ],
   "source": [
    "#fuel\n",
    "aircraft_data = {'model' : ['737-800', '737-max-8'], 'gallon-hour' : [850.0, 750.0], 'cost-per-gallon' : [3.0, 3.0]}\n",
    "ac_costs = pd.DataFrame(aircraft_data)\n",
    "ac_costs['cost-per-hour'] = ac_costs['gallon-hour']*ac_costs['cost-per-gallon']\n",
    "\n",
    "unit-tariff-passenger = 4.6\n",
    "unit-tariff-cargo = 2.18\n",
    "\n",
    "\n",
    "\n",
    "\n",
    "display(ac_costs)"
   ]
  },
  {
   "cell_type": "code",
   "execution_count": null,
   "id": "876ab801",
   "metadata": {},
   "outputs": [],
   "source": [
    "#Donnée a la main : \n",
    "Madrid : 822Miles, 2h30, entre 7 et 10 vols/j       https://www.directflights.com/BRU-MAD           \t440199personnes\t3042vols/ans  \n",
    "Stockholm : 805Miles, 2h10, 4 (ou 3) vols/j         https://www.directflights.com/BRU-ARN\n",
    "Athens : 1313Miles, 3h, 4 (ou 3) vols/j             https://www.directflights.com/BRU-ATH\n",
    "Global : 202vols/j"
   ]
  }
 ],
 "metadata": {
  "kernelspec": {
   "display_name": ".venv",
   "language": "python",
   "name": "python3"
  },
  "language_info": {
   "codemirror_mode": {
    "name": "ipython",
    "version": 3
   },
   "file_extension": ".py",
   "mimetype": "text/x-python",
   "name": "python",
   "nbconvert_exporter": "python",
   "pygments_lexer": "ipython3",
   "version": "3.13.1"
  }
 },
 "nbformat": 4,
 "nbformat_minor": 5
}
